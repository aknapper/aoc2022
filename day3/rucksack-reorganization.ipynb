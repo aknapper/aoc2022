{
 "cells": [
  {
   "cell_type": "markdown",
   "id": "fb0cd14b",
   "metadata": {},
   "source": [
    "# Day 3 - Rucksack Reorg"
   ]
  },
  {
   "cell_type": "markdown",
   "id": "55998fab",
   "metadata": {},
   "source": [
    "## Part 1"
   ]
  },
  {
   "cell_type": "code",
   "execution_count": 1,
   "id": "ec319d9c",
   "metadata": {},
   "outputs": [],
   "source": [
    "itemsInRucksack = 'input.txt'"
   ]
  },
  {
   "cell_type": "code",
   "execution_count": 37,
   "id": "b16c3993",
   "metadata": {},
   "outputs": [
    {
     "name": "stdout",
     "output_type": "stream",
     "text": [
      "300\n"
     ]
    }
   ],
   "source": [
    "with open(itemsInRucksack) as f:\n",
    "    lines = f.readlines()\n",
    "    print(len(lines))"
   ]
  },
  {
   "cell_type": "code",
   "execution_count": 3,
   "id": "391df4c4",
   "metadata": {},
   "outputs": [],
   "source": [
    "def findDuplicate(firstString, secondString):\n",
    "    for compAItem in firstString:\n",
    "        for compBItem in secondString:\n",
    "            if compAItem == compBItem:\n",
    "                return compAItem\n",
    "            else:\n",
    "                pass"
   ]
  },
  {
   "cell_type": "code",
   "execution_count": 4,
   "id": "31dfd3e7",
   "metadata": {},
   "outputs": [],
   "source": [
    "def findPriority(item):\n",
    "    if item.islower():\n",
    "        return ord(item) - 96\n",
    "    elif item.isupper():\n",
    "        return ord(item) - 38"
   ]
  },
  {
   "cell_type": "code",
   "execution_count": 5,
   "id": "d323b632",
   "metadata": {},
   "outputs": [],
   "source": [
    "itemPrioritySum = 0\n",
    "for line in lines:\n",
    "    fString = line.rstrip()\n",
    "    firstCompartment, secondCompartment = fString[:len(fString)//2], fString[len(fString)//2:]\n",
    "    duplicate = findDuplicate(firstCompartment,secondCompartment)\n",
    "    priority = findPriority(duplicate)\n",
    "    itemPrioritySum += priority"
   ]
  },
  {
   "cell_type": "code",
   "execution_count": 6,
   "id": "c483cf4c",
   "metadata": {},
   "outputs": [
    {
     "name": "stdout",
     "output_type": "stream",
     "text": [
      "Sum of priorities of item types: 8039\n"
     ]
    }
   ],
   "source": [
    "print(\"Sum of priorities of item types:\",itemPrioritySum)"
   ]
  },
  {
   "cell_type": "markdown",
   "id": "624e973a",
   "metadata": {},
   "source": [
    "## Part 2"
   ]
  },
  {
   "cell_type": "code",
   "execution_count": 48,
   "id": "17bb0eb1",
   "metadata": {},
   "outputs": [],
   "source": [
    "def getGroups(lines):\n",
    "    rows, cols = (int(len(lines)/3),3)\n",
    "    groups = [[0 for i in range(cols)] for j in range(rows)]\n",
    "    index = 0\n",
    "    count = 0\n",
    "    for line in lines:\n",
    "        if count < 3:\n",
    "            pass\n",
    "        else:\n",
    "            index += 1\n",
    "            count = 0\n",
    "            pass\n",
    "        groups[index][count] = line\n",
    "        count += 1\n",
    "    return groups"
   ]
  },
  {
   "cell_type": "code",
   "execution_count": 12,
   "id": "ad6042b9",
   "metadata": {},
   "outputs": [],
   "source": [
    "def findBadgeItem(firstRucksack, secondRucksack, thirdRucksack):\n",
    "    for sackAItem in firstRucksack:\n",
    "        for sackBItem in secondRucksack:\n",
    "            for sackCItem in thirdRucksack:\n",
    "                if sackAItem == sackBItem and sackAItem == sackCItem:\n",
    "                    return sackAItem\n",
    "                else:\n",
    "                    pass"
   ]
  },
  {
   "cell_type": "code",
   "execution_count": 59,
   "id": "334c358b",
   "metadata": {},
   "outputs": [
    {
     "name": "stdout",
     "output_type": "stream",
     "text": [
      "Sum of priorities of badge types: 2510\n"
     ]
    }
   ],
   "source": [
    "itemPrioritySum = 0\n",
    "groups = getGroups(lines)\n",
    "for group in groups:\n",
    "    badgeItem = findBadgeItem(group[0],group[1],group[2])\n",
    "    priority = findPriority(badgeItem)\n",
    "    itemPrioritySum += priority\n",
    "    \n",
    "print(\"Sum of priorities of badge types:\",itemPrioritySum)"
   ]
  }
 ],
 "metadata": {
  "kernelspec": {
   "display_name": "Python 3 (ipykernel)",
   "language": "python",
   "name": "python3"
  },
  "language_info": {
   "codemirror_mode": {
    "name": "ipython",
    "version": 3
   },
   "file_extension": ".py",
   "mimetype": "text/x-python",
   "name": "python",
   "nbconvert_exporter": "python",
   "pygments_lexer": "ipython3",
   "version": "3.10.6"
  }
 },
 "nbformat": 4,
 "nbformat_minor": 5
}
