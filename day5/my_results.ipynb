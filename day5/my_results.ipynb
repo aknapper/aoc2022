{
 "cells": [
  {
   "cell_type": "markdown",
   "id": "75afc7e9",
   "metadata": {},
   "source": [
    "# Day 5 - Supply Stacks"
   ]
  },
  {
   "cell_type": "markdown",
   "id": "97939955",
   "metadata": {},
   "source": [
    "## Part 1"
   ]
  },
  {
   "cell_type": "code",
   "execution_count": 1,
   "id": "d6097d9c",
   "metadata": {},
   "outputs": [],
   "source": [
    "puzzleInput = \"input.txt\""
   ]
  },
  {
   "cell_type": "code",
   "execution_count": 2,
   "id": "30040223",
   "metadata": {},
   "outputs": [],
   "source": [
    "with open(puzzleInput) as f:\n",
    "    lines = f.readlines()"
   ]
  },
  {
   "cell_type": "markdown",
   "id": "b76f89ce",
   "metadata": {},
   "source": [
    "GOAL\n",
    "- find which crate will end up on top of each stack, combine letters into single message\n",
    "\n",
    "STEPS\n",
    "- parse \"stacks\" to build list of crates in each stack\n",
    "- parse instructions to build an instruction list about actions to take\n",
    "\n",
    "- fifo approach for moving \"crates\" among stacks, should be using \"pop\" on stack lists created prior in a way that corresponds to the instruction list derived \n"
   ]
  },
  {
   "cell_type": "code",
   "execution_count": 3,
   "id": "aa99a3c5",
   "metadata": {},
   "outputs": [],
   "source": [
    "for line in lines:\n",
    "#     print(line)\n",
    "    pass"
   ]
  },
  {
   "cell_type": "code",
   "execution_count": 4,
   "id": "cbd80c8e",
   "metadata": {},
   "outputs": [],
   "source": [
    "docStacks = [['S','M','R','N','W','J','V','T'],\n",
    "         ['B','W','D','J','Q','P','C','V'],\n",
    "         ['B','J','F','H','D','R','P'],\n",
    "         ['F','R','P','B','M','N','D'],\n",
    "         ['H','V','R','P','T','B'],\n",
    "         ['C','B','P','T'],\n",
    "         ['B','J','R','P','L'],\n",
    "         ['N','C','S','L','T','Z','B','W'],\n",
    "         ['L','S','G']]"
   ]
  },
  {
   "cell_type": "code",
   "execution_count": 5,
   "id": "7a64bf27",
   "metadata": {},
   "outputs": [],
   "source": [
    "class ArrangementProcedure:\n",
    "    def __init__(self, numCrates, fromStack, toStack):\n",
    "        self.numCrates = numCrates\n",
    "        self.fromStack = fromStack\n",
    "        self.toStack = toStack"
   ]
  },
  {
   "cell_type": "code",
   "execution_count": 6,
   "id": "c5344db4",
   "metadata": {},
   "outputs": [],
   "source": [
    "def getProcedure(puzzleInput):\n",
    "    procedure = []\n",
    "    for line in puzzleInput:\n",
    "#         print(line)\n",
    "        if line[0] != \"m\":\n",
    "            pass\n",
    "        else:\n",
    "            _, number, _, start, _, end = line.split()\n",
    "            number = int(number)\n",
    "            start = int(start)\n",
    "            end = int(end)\n",
    "#             print(number,start,end)\n",
    "            procedure.append(ArrangementProcedure(number, start, end))\n",
    "    return procedure"
   ]
  },
  {
   "cell_type": "code",
   "execution_count": 7,
   "id": "2b24d006",
   "metadata": {},
   "outputs": [
    {
     "name": "stdout",
     "output_type": "stream",
     "text": [
      "L\n",
      "J\n",
      "S\n",
      "V\n",
      "L\n",
      "T\n",
      "W\n",
      "Q\n",
      "M\n"
     ]
    }
   ],
   "source": [
    "procedure = getProcedure(lines)\n",
    "\n",
    "# for each instruction in procedure\n",
    "for line in procedure:\n",
    "    stacks = docStacks\n",
    "\n",
    "#     for number of crates we're moving\n",
    "    for x in range(line.numCrates):\n",
    "        \n",
    "#         if fromStack is empty\n",
    "        if not stacks[line.fromStack-1]:\n",
    "            pass\n",
    "        \n",
    "#         else move crate\n",
    "        else:\n",
    "            removedElement = stacks[line.fromStack-1].pop()\n",
    "            stacks[line.toStack-1].append(removedElement)\n",
    "\n",
    "for line in stacks:\n",
    "    print(line[-1])"
   ]
  },
  {
   "cell_type": "markdown",
   "id": "2dbb8ecf",
   "metadata": {},
   "source": [
    "## Part 2"
   ]
  },
  {
   "cell_type": "code",
   "execution_count": 8,
   "id": "79b47941",
   "metadata": {},
   "outputs": [],
   "source": [
    "docStacks = [['S','M','R','N','W','J','V','T'],\n",
    "         ['B','W','D','J','Q','P','C','V'],\n",
    "         ['B','J','F','H','D','R','P'],\n",
    "         ['F','R','P','B','M','N','D'],\n",
    "         ['H','V','R','P','T','B'],\n",
    "         ['C','B','P','T'],\n",
    "         ['B','J','R','P','L'],\n",
    "         ['N','C','S','L','T','Z','B','W'],\n",
    "         ['L','S','G']]"
   ]
  },
  {
   "cell_type": "code",
   "execution_count": 9,
   "id": "cea006f2",
   "metadata": {},
   "outputs": [
    {
     "name": "stdout",
     "output_type": "stream",
     "text": [
      "['L', 'S', 'G']\n"
     ]
    }
   ],
   "source": [
    "print(docStacks[8])"
   ]
  },
  {
   "cell_type": "code",
   "execution_count": 10,
   "id": "f1672522",
   "metadata": {},
   "outputs": [
    {
     "name": "stdout",
     "output_type": "stream",
     "text": [
      "B\n",
      "R\n",
      "Q\n",
      "W\n",
      "D\n",
      "B\n",
      "B\n",
      "J\n",
      "M\n"
     ]
    }
   ],
   "source": [
    "for line in procedure:\n",
    "    stacks = docStacks\n",
    "    top = []\n",
    "    \n",
    "    if not stacks[line.fromStack-1]:\n",
    "        pass\n",
    "    else:\n",
    "        removedElements = stacks[line.fromStack-1][-line.numCrates:]\n",
    "        del stacks[line.fromStack-1][-line.numCrates:]\n",
    "        stacks[line.toStack-1].extend(removedElements)\n",
    "        \n",
    "for line in stacks:\n",
    "    print(line[-1])"
   ]
  }
 ],
 "metadata": {
  "kernelspec": {
   "display_name": "Python 3 (ipykernel)",
   "language": "python",
   "name": "python3"
  },
  "language_info": {
   "codemirror_mode": {
    "name": "ipython",
    "version": 3
   },
   "file_extension": ".py",
   "mimetype": "text/x-python",
   "name": "python",
   "nbconvert_exporter": "python",
   "pygments_lexer": "ipython3",
   "version": "3.10.6"
  }
 },
 "nbformat": 4,
 "nbformat_minor": 5
}
