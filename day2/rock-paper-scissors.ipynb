{
 "cells": [
  {
   "cell_type": "markdown",
   "id": "b588fbed",
   "metadata": {},
   "source": [
    "# Day 2 - Rock Paper Scissors"
   ]
  },
  {
   "cell_type": "markdown",
   "id": "6bd4c996",
   "metadata": {},
   "source": [
    "## Part 1"
   ]
  },
  {
   "cell_type": "code",
   "execution_count": 1,
   "id": "86503f17",
   "metadata": {},
   "outputs": [],
   "source": [
    "encryptedStrategyGuide = 'input.txt'"
   ]
  },
  {
   "cell_type": "code",
   "execution_count": 13,
   "id": "85a77d93",
   "metadata": {},
   "outputs": [],
   "source": [
    "with open(encryptedStrategyGuide) as f:\n",
    "    lines = f.readlines()"
   ]
  },
  {
   "cell_type": "code",
   "execution_count": 3,
   "id": "54230337",
   "metadata": {},
   "outputs": [],
   "source": [
    "class OppenentShapes:\n",
    "    rock = 'A'\n",
    "    paper = 'B'\n",
    "    scissors = 'C'\n",
    "    \n",
    "class YourShapes:\n",
    "    rock = 'X'\n",
    "    paper = 'Y'\n",
    "    scissors = 'Z'"
   ]
  },
  {
   "cell_type": "code",
   "execution_count": 4,
   "id": "176e3f26",
   "metadata": {},
   "outputs": [],
   "source": [
    "def getOutcomeScore(opponentShape, yourShape):\n",
    "    lossPoints = 0\n",
    "    drawPoints = 3\n",
    "    winPoints = 6\n",
    "    \n",
    "    match opponentShape:\n",
    "        case OppenentShapes.rock:\n",
    "            match yourShape:\n",
    "                case YourShapes.rock:\n",
    "                    return drawPoints\n",
    "                case YourShapes.paper:\n",
    "                    return winPoints\n",
    "                case YourShapes.scissors:\n",
    "                    return lossPoints\n",
    "        case OppenentShapes.paper:\n",
    "            match yourShape:\n",
    "                case YourShapes.rock:\n",
    "                    return lossPoints\n",
    "                case YourShapes.paper:\n",
    "                    return drawPoints\n",
    "                case YourShapes.scissors:\n",
    "                    return winPoints\n",
    "        case OppenentShapes.scissors:\n",
    "            match yourShape:\n",
    "                case YourShapes.rock:\n",
    "                    return winPoints\n",
    "                case YourShapes.paper:\n",
    "                    return lossPoints\n",
    "                case YourShapes.scissors:\n",
    "                    return drawPoints"
   ]
  },
  {
   "cell_type": "code",
   "execution_count": 5,
   "id": "cb0c642a",
   "metadata": {},
   "outputs": [],
   "source": [
    "def getShapePoints(yourShape):\n",
    "    rockPoints = 1\n",
    "    paperPoints = 2\n",
    "    scissorPoints = 3\n",
    "    \n",
    "    match yourShape:\n",
    "        case YourShapes.rock:\n",
    "            return rockPoints\n",
    "        case YourShapes.paper:\n",
    "            return paperPoints\n",
    "        case YourShapes.scissors:\n",
    "            return scissorPoints"
   ]
  },
  {
   "cell_type": "code",
   "execution_count": 6,
   "id": "2b237cc0",
   "metadata": {},
   "outputs": [],
   "source": [
    "def getTotalPoints(oppenentShape, yourShape):\n",
    "    return getOutcomeScore(oppenentShape,yourShape) + getShapePoints(yourShape)"
   ]
  },
  {
   "cell_type": "code",
   "execution_count": 7,
   "id": "fe5d2c98",
   "metadata": {},
   "outputs": [],
   "source": [
    "def getOppenentShape(shapesString):\n",
    "    shape = shapesString.split(\" \")\n",
    "    return shape[0]\n",
    "\n",
    "def getYourShape(shapesString):\n",
    "    shape = shapesString.split(\" \")\n",
    "    newShape = shape[1].rstrip()\n",
    "    return newShape"
   ]
  },
  {
   "cell_type": "code",
   "execution_count": 8,
   "id": "089ed847",
   "metadata": {},
   "outputs": [
    {
     "name": "stdout",
     "output_type": "stream",
     "text": [
      "Total Score is: 8890\n"
     ]
    }
   ],
   "source": [
    "totalScore = 0\n",
    "for game in lines:\n",
    "    oppenentShape = getOppenentShape(game)\n",
    "    yourShape = getYourShape(game)    \n",
    "    totalScore += getTotalPoints(oppenentShape,yourShape)\n",
    "    \n",
    "print(\"Total Score is:\",totalScore)"
   ]
  },
  {
   "cell_type": "markdown",
   "id": "58ebcced",
   "metadata": {},
   "source": [
    "## Part 2"
   ]
  },
  {
   "cell_type": "code",
   "execution_count": 9,
   "id": "c54263f1",
   "metadata": {},
   "outputs": [],
   "source": [
    "class DesiredOutcomes:\n",
    "    loss = 'X'\n",
    "    draw = 'Y'\n",
    "    win = 'Z'"
   ]
  },
  {
   "cell_type": "code",
   "execution_count": 10,
   "id": "f6fd28da",
   "metadata": {},
   "outputs": [],
   "source": [
    "def pickYourShape(desiredRoundOutcome, oppenentShape):\n",
    "    match desiredRoundOutcome:\n",
    "        case DesiredOutcomes.loss:\n",
    "            match oppenentShape:\n",
    "                case OppenentShapes.rock:\n",
    "                    return YourShapes.scissors\n",
    "                case OppenentShapes.paper:\n",
    "                    return YourShapes.rock\n",
    "                case OppenentShapes.scissors:\n",
    "                    return YourShapes.paper\n",
    "                \n",
    "        case DesiredOutcomes.draw:\n",
    "            match oppenentShape:\n",
    "                case OppenentShapes.rock:\n",
    "                    return YourShapes.rock\n",
    "                case OppenentShapes.paper:\n",
    "                    return YourShapes.paper\n",
    "                case OppenentShapes.scissors:\n",
    "                    return YourShapes.scissors\n",
    "                \n",
    "        case DesiredOutcomes.win:\n",
    "            match oppenentShape:\n",
    "                case OppenentShapes.rock:\n",
    "                    return YourShapes.paper\n",
    "                case OppenentShapes.paper:\n",
    "                    return YourShapes.scissors\n",
    "                case OppenentShapes.scissors:\n",
    "                    return YourShapes.rock"
   ]
  },
  {
   "cell_type": "code",
   "execution_count": 11,
   "id": "2e60811f",
   "metadata": {},
   "outputs": [
    {
     "name": "stdout",
     "output_type": "stream",
     "text": [
      "Total score is: 10238\n"
     ]
    }
   ],
   "source": [
    "totalScore = 0\n",
    "for game in lines:\n",
    "    oppenentShape = getOppenentShape(game)\n",
    "    outcome = getYourShape(game)\n",
    "    yourShape = pickYourShape(outcome,oppenentShape)\n",
    "    totalScore += getTotalPoints(oppenentShape,yourShape)\n",
    "print(\"Total score is:\",totalScore)"
   ]
  }
 ],
 "metadata": {
  "kernelspec": {
   "display_name": "Python 3 (ipykernel)",
   "language": "python",
   "name": "python3"
  },
  "language_info": {
   "codemirror_mode": {
    "name": "ipython",
    "version": 3
   },
   "file_extension": ".py",
   "mimetype": "text/x-python",
   "name": "python",
   "nbconvert_exporter": "python",
   "pygments_lexer": "ipython3",
   "version": "3.10.6"
  }
 },
 "nbformat": 4,
 "nbformat_minor": 5
}
