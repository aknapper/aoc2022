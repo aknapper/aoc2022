{
 "cells": [
  {
   "cell_type": "markdown",
   "id": "0b2bab12",
   "metadata": {},
   "source": [
    "# Day 6 - Tuning Trouble"
   ]
  },
  {
   "cell_type": "markdown",
   "id": "32778087",
   "metadata": {},
   "source": [
    "## Part 1"
   ]
  },
  {
   "cell_type": "code",
   "execution_count": 1,
   "id": "509820f4",
   "metadata": {},
   "outputs": [],
   "source": [
    "puzzleInput = 'input.txt'"
   ]
  },
  {
   "cell_type": "markdown",
   "id": "06fd35f5",
   "metadata": {},
   "source": [
    "GOAL\n",
    "- find the number of characters that need to be processed before first start-of-packet marker is detected\n",
    "\n",
    "STEPS\n",
    "- read input\n",
    "- getMarker function which checks for 4 unique characters in the selected index of the provided string\n",
    "    - should track starting index\n",
    "    - check to see if marker charcters are unique\n",
    "    - return position of last marker (number of characters required to process)"
   ]
  },
  {
   "cell_type": "code",
   "execution_count": 2,
   "id": "1ac6399c",
   "metadata": {},
   "outputs": [],
   "source": [
    "with open(puzzleInput) as f:\n",
    "    datastream = f.readline()\n",
    "    \n",
    "# print('value of type:',type(datastream),'is:\\n',datastream)"
   ]
  },
  {
   "cell_type": "code",
   "execution_count": 3,
   "id": "d3668165",
   "metadata": {},
   "outputs": [],
   "source": [
    "class markerTypes:\n",
    "    packet = 4\n",
    "    message = 14"
   ]
  },
  {
   "cell_type": "code",
   "execution_count": 4,
   "id": "a9f53902",
   "metadata": {},
   "outputs": [],
   "source": [
    "def getMarker(inputDatastream, markerCharacters):\n",
    "    startIndex = 0\n",
    "    markerLength = markerCharacters\n",
    "    \n",
    "    for index, value in enumerate(inputDatastream):\n",
    "        uniqueChars = set(inputDatastream[startIndex:startIndex + markerLength])\n",
    "        if len(uniqueChars) < markerLength:\n",
    "            startIndex += 1\n",
    "        else:\n",
    "            return startIndex + markerLength"
   ]
  },
  {
   "cell_type": "code",
   "execution_count": 5,
   "id": "606adeef",
   "metadata": {},
   "outputs": [],
   "source": [
    "packetTest1 = 'bvwbjplbgvbhsrlpgdmjqwftvncz'\n",
    "packetTest2 = 'nppdvjthqldpwncqszvftbrmjlhg'\n",
    "packetTest3 = 'nznrnfrfntjfmvfwmzdfjlvtqnbhcprsg'\n",
    "packetTest4 = 'zcfzfwzzqfrljwzlrfnpqdbhtmscgvjw'"
   ]
  },
  {
   "cell_type": "code",
   "execution_count": 6,
   "id": "99a38f3c",
   "metadata": {},
   "outputs": [
    {
     "name": "stdout",
     "output_type": "stream",
     "text": [
      "5\n",
      "6\n",
      "10\n",
      "11\n"
     ]
    }
   ],
   "source": [
    "print(getMarker(packetTest1,markerTypes.packet))\n",
    "print(getMarker(packetTest2,markerTypes.packet))\n",
    "print(getMarker(packetTest3,markerTypes.packet))\n",
    "print(getMarker(packetTest4,markerTypes.packet))"
   ]
  },
  {
   "cell_type": "code",
   "execution_count": 7,
   "id": "c07c3ebe",
   "metadata": {},
   "outputs": [
    {
     "name": "stdout",
     "output_type": "stream",
     "text": [
      "Number of characters needed to be prcoessed: 1134\n"
     ]
    }
   ],
   "source": [
    "print('Number of characters needed to be prcoessed:',getMarker(datastream,markerTypes.packet))"
   ]
  },
  {
   "cell_type": "markdown",
   "id": "29e80fac",
   "metadata": {},
   "source": [
    "## Part 2"
   ]
  },
  {
   "cell_type": "code",
   "execution_count": 8,
   "id": "9098a35d",
   "metadata": {},
   "outputs": [],
   "source": [
    "messageTest1 = 'mjqjpqmgbljsphdztnvjfqwrcgsmlb'\n",
    "messageTest2 = 'bvwbjplbgvbhsrlpgdmjqwftvncz'\n",
    "messageTest3 = 'nppdvjthqldpwncqszvftbrmjlhg'\n",
    "messageTest4 = 'nznrnfrfntjfmvfwmzdfjlvtqnbhcprsg'\n",
    "messageTest5 = 'zcfzfwzzqfrljwzlrfnpqdbhtmscgvjw'"
   ]
  },
  {
   "cell_type": "code",
   "execution_count": 9,
   "id": "b5b7951d",
   "metadata": {},
   "outputs": [
    {
     "name": "stdout",
     "output_type": "stream",
     "text": [
      "19\n",
      "23\n",
      "23\n",
      "29\n",
      "26\n"
     ]
    }
   ],
   "source": [
    "print(getMarker(messageTest1, markerTypes.message))\n",
    "print(getMarker(messageTest2, markerTypes.message))\n",
    "print(getMarker(messageTest3, markerTypes.message))\n",
    "print(getMarker(messageTest4, markerTypes.message))\n",
    "print(getMarker(messageTest5, markerTypes.message))"
   ]
  },
  {
   "cell_type": "code",
   "execution_count": 10,
   "id": "1dc127ea",
   "metadata": {},
   "outputs": [
    {
     "name": "stdout",
     "output_type": "stream",
     "text": [
      "Number of characters needed to be processed: 2263\n"
     ]
    }
   ],
   "source": [
    "print('Number of characters needed to be processed:',getMarker(datastream,markerTypes.message))"
   ]
  }
 ],
 "metadata": {
  "kernelspec": {
   "display_name": "Python 3 (ipykernel)",
   "language": "python",
   "name": "python3"
  },
  "language_info": {
   "codemirror_mode": {
    "name": "ipython",
    "version": 3
   },
   "file_extension": ".py",
   "mimetype": "text/x-python",
   "name": "python",
   "nbconvert_exporter": "python",
   "pygments_lexer": "ipython3",
   "version": "3.10.6"
  }
 },
 "nbformat": 4,
 "nbformat_minor": 5
}
