{
 "cells": [
  {
   "cell_type": "markdown",
   "id": "ede5548e",
   "metadata": {},
   "source": [
    "- provided chatGPT with the input\n",
    "- code runs fine but seems like it didn't understand that it needed to check for unique characters\n",
    "- fail"
   ]
  },
  {
   "cell_type": "code",
   "execution_count": 1,
   "id": "81ff4383",
   "metadata": {},
   "outputs": [],
   "source": [
    "puzzleInput = 'input.txt'"
   ]
  },
  {
   "cell_type": "code",
   "execution_count": 2,
   "id": "c6d253c2",
   "metadata": {},
   "outputs": [],
   "source": [
    "# with open(puzzleInput) as f:\n",
    "#     datastream = f.read()"
   ]
  },
  {
   "cell_type": "code",
   "execution_count": 3,
   "id": "a8dfe93f",
   "metadata": {},
   "outputs": [],
   "source": [
    "def find_start_of_packet(datastream):\n",
    "  # Set to store the characters in the current sequence\n",
    "  sequence = set()\n",
    "\n",
    "  # Loop through each character in the datastream\n",
    "  for i, c in enumerate(datastream):\n",
    "    # Add the character to the set\n",
    "    sequence.add(c)\n",
    "\n",
    "    # If the length of the set is 4, we have found a start-of-packet marker\n",
    "    if len(sequence) == 4:\n",
    "      return i + 1  # Return the index of the last character in the sequence\n",
    "\n",
    "  # If we reach this point, no start-of-packet marker was found\n",
    "  return -1"
   ]
  },
  {
   "cell_type": "code",
   "execution_count": 4,
   "id": "93e8ce22",
   "metadata": {},
   "outputs": [
    {
     "name": "stdout",
     "output_type": "stream",
     "text": [
      "5\n"
     ]
    }
   ],
   "source": [
    "datastream = \"mjqjpqmgbljsphdztnvjfqwrcgsmlb\"\n",
    "\n",
    "start_of_packet = find_start_of_packet(datastream)\n",
    "\n",
    "# Print the result\n",
    "print(start_of_packet)  # Output: 7"
   ]
  }
 ],
 "metadata": {
  "kernelspec": {
   "display_name": "Python 3 (ipykernel)",
   "language": "python",
   "name": "python3"
  },
  "language_info": {
   "codemirror_mode": {
    "name": "ipython",
    "version": 3
   },
   "file_extension": ".py",
   "mimetype": "text/x-python",
   "name": "python",
   "nbconvert_exporter": "python",
   "pygments_lexer": "ipython3",
   "version": "3.10.6"
  }
 },
 "nbformat": 4,
 "nbformat_minor": 5
}
