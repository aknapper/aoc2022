{
 "cells": [
  {
   "cell_type": "markdown",
   "id": "e03ce922",
   "metadata": {},
   "source": [
    "# Day 8 - TreeTop Tree House"
   ]
  },
  {
   "cell_type": "markdown",
   "id": "d6827200",
   "metadata": {},
   "source": [
    "## Part 1"
   ]
  },
  {
   "cell_type": "code",
   "execution_count": null,
   "id": "f30e7587",
   "metadata": {},
   "outputs": [],
   "source": [
    "- GOAL\n",
    "to the number of trees visible from the outside of the grid\n",
    "\n",
    "- STEPS\n",
    "- need to investigate the trees (digit) from each perspective (up,down,left, right)\n",
    "- test by walking around the perimeter of the trees (check for highest values from left-right,bottom-top,right-left-top-bottom)"
   ]
  },
  {
   "cell_type": "code",
   "execution_count": 1,
   "id": "6c977248",
   "metadata": {},
   "outputs": [],
   "source": [
    "ExampleInput = [30373,25512,65332,33549,35390]"
   ]
  },
  {
   "cell_type": "code",
   "execution_count": null,
   "id": "89180980",
   "metadata": {},
   "outputs": [],
   "source": []
  }
 ],
 "metadata": {
  "kernelspec": {
   "display_name": "Python 3 (ipykernel)",
   "language": "python",
   "name": "python3"
  },
  "language_info": {
   "codemirror_mode": {
    "name": "ipython",
    "version": 3
   },
   "file_extension": ".py",
   "mimetype": "text/x-python",
   "name": "python",
   "nbconvert_exporter": "python",
   "pygments_lexer": "ipython3",
   "version": "3.10.6"
  }
 },
 "nbformat": 4,
 "nbformat_minor": 5
}
