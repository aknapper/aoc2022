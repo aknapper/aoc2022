{
 "cells": [
  {
   "cell_type": "markdown",
   "id": "898c3946",
   "metadata": {},
   "source": [
    "# Day 7 - No Space Left On Device"
   ]
  },
  {
   "cell_type": "markdown",
   "id": "8d50174f",
   "metadata": {},
   "source": [
    "## Part 1"
   ]
  },
  {
   "cell_type": "markdown",
   "id": "f87bab4b",
   "metadata": {},
   "source": [
    "GOAL\n",
    "- Find all 'directories' with a size less than or ewual to 100,000. Sum of these directories\n",
    "\n",
    "STEPS\n",
    "- find total size of each directory\n",
    "- keep track of current directory\n",
    "- '$' will signal start of command\n"
   ]
  },
  {
   "cell_type": "code",
   "execution_count": 1,
   "id": "4665b9b3",
   "metadata": {},
   "outputs": [],
   "source": [
    "puzzleInput = 'input.txt'"
   ]
  },
  {
   "cell_type": "code",
   "execution_count": 2,
   "id": "31e12512",
   "metadata": {},
   "outputs": [],
   "source": [
    "with open(puzzleInput) as f:\n",
    "    terminalOutput = f.readlines()"
   ]
  },
  {
   "cell_type": "code",
   "execution_count": 3,
   "id": "9b7e7a40",
   "metadata": {},
   "outputs": [],
   "source": [
    "class Commands:\n",
    "    changeDirectory = \"cd\"\n",
    "    listFiles = \"ls\""
   ]
  },
  {
   "cell_type": "code",
   "execution_count": 4,
   "id": "3dbacfe8",
   "metadata": {},
   "outputs": [],
   "source": [
    "class Directory():\n",
    "    def __init__(self, name, files = [], childrenDir = [], parentDir = []):\n",
    "        self.name = name\n",
    "        self.files = files\n",
    "        self.childrenDir = childrenDir\n",
    "        self.parentDir = parentDir"
   ]
  },
  {
   "cell_type": "code",
   "execution_count": 33,
   "id": "ee5723cf",
   "metadata": {},
   "outputs": [],
   "source": [
    "class TerminalParser():\n",
    "    def __init__(self, inputFile):\n",
    "        self.inputFile = inputFile\n",
    "        self._currentDir = Directory('/', parentDir=None)\n",
    "        \n",
    "    def displayCommands(self):\n",
    "        for index, line in enumerate(self.inputFile):\n",
    "            print('line:',index,'command:',line.rstrip())\n",
    "    \n",
    "    def getCommandIndex(self):\n",
    "        indexList = []\n",
    "        for index, line in enumerate(self.inputFile):\n",
    "            if line[0] == \"$\":\n",
    "                indexList.append(index)\n",
    "        return indexList\n",
    "    \n",
    "    def getCommand(self, index):\n",
    "        command = self.inputFile[index].rstrip().split()\n",
    "        return command[1:]\n",
    "    \n",
    "    def getLsList(self,startIndex):\n",
    "        lsList = []\n",
    "        for line in self.inputFile[startIndex+1:]:\n",
    "            if line[0] == \"$\":\n",
    "                return lsList\n",
    "            else:\n",
    "                lsList.append(line.rstrip().split())\n",
    "    \n",
    "    def processCommands(self):\n",
    "        for command in self.getCommandIndex():\n",
    "            output = self.getCommand(command)\n",
    "#             print('index:',command,'output:',output)\n",
    "            match output[0]:\n",
    "                case Commands.listFiles:\n",
    "                    self.processLsCommand(output[1:], self.getLsList(command))\n",
    "                case Commands.changeDirectory:\n",
    "                    self.processCdCommand(output[1:])\n",
    "                    \n",
    "    @property\n",
    "    def currentDirectory(self):\n",
    "        '''\n",
    "        getter\n",
    "        '''\n",
    "        return self._currentDir\n",
    "    \n",
    "    @currentDirectory.setter\n",
    "    def currentDirectory(self, cdArgs):\n",
    "        '''\n",
    "        setter\n",
    "        '''\n",
    "        self._currentDir = cdArgs\n",
    "    \n",
    "    def processCdCommand(self,arg):\n",
    "        self.cdName = arg[0]\n",
    "        print('\\ncdarg:',arg)\n",
    "        print(self.currentDirectory.name)\n",
    "        if self.cdName == self.currentDirectory.name:\n",
    "            print('no change')\n",
    "            pass\n",
    "        elif self.cdName == \"..\":\n",
    "#             self.currentDirectory = self.currentDirectory.parentDir\n",
    "            print('go up a directory')\n",
    "        else:\n",
    "#             self.currentDirectory = self.currentDirectory.childrenDir.name(cdName)\n",
    "            print('go to dir:',self.cdName)\n",
    "#         elif self.cdName == None:\n",
    "#             self.currentDirectory = Directory(argument)\n",
    "    \n",
    "    def processLsCommand(self, index, lsList):\n",
    "        self.lsList = lsList\n",
    "        for line in self.lsList:\n",
    "#             create subdirectories\n",
    "            if line[0] == \"dir\":\n",
    "                self.currentDirectory.childrenDir.append(Directory(line[1],parentDir=self.currentDirectory))\n",
    "#             add files to directories\n",
    "            else:\n",
    "                self.currentDirectory.files.append(line)"
   ]
  },
  {
   "cell_type": "code",
   "execution_count": 34,
   "id": "533ea3fb",
   "metadata": {},
   "outputs": [
    {
     "name": "stdout",
     "output_type": "stream",
     "text": [
      "/\n"
     ]
    },
    {
     "data": {
      "text/plain": [
       "'lwhbw'"
      ]
     },
     "execution_count": 34,
     "metadata": {},
     "output_type": "execute_result"
    }
   ],
   "source": [
    "prog = TerminalParser(terminalOutput)\n",
    "# for x in prog.getCommandIndex():\n",
    "# #     print(x)\n",
    "#     print(prog.getCommand(x))\n",
    "# prog.processCommands()\n",
    "prog.currentDirectory = Directory('/')\n",
    "prog.currentDirectory.name\n",
    "\n",
    "# index = 1\n",
    "# lsList = prog.getLsList(index)\n",
    "# prog.processLsCommand(index, lsList)\n",
    "\n",
    "print(prog.currentDirectory.name)\n",
    "prog.currentDirectory.childrenDir[1].name\n",
    "# foo = prog.currentDirectory.name\n",
    "# prog.currentDirectory.name"
   ]
  }
 ],
 "metadata": {
  "kernelspec": {
   "display_name": "Python 3 (ipykernel)",
   "language": "python",
   "name": "python3"
  },
  "language_info": {
   "codemirror_mode": {
    "name": "ipython",
    "version": 3
   },
   "file_extension": ".py",
   "mimetype": "text/x-python",
   "name": "python",
   "nbconvert_exporter": "python",
   "pygments_lexer": "ipython3",
   "version": "3.10.6"
  }
 },
 "nbformat": 4,
 "nbformat_minor": 5
}
