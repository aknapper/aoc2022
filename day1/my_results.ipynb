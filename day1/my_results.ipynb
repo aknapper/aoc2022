{
 "cells": [
  {
   "cell_type": "markdown",
   "id": "4791200e",
   "metadata": {},
   "source": [
    "# Calorie Counting"
   ]
  },
  {
   "cell_type": "markdown",
   "id": "f656949c",
   "metadata": {},
   "source": [
    "## Part 1 - Find the elf carrying the most calories. How many total calories are they carrying? "
   ]
  },
  {
   "cell_type": "code",
   "execution_count": 7,
   "id": "91f8466b",
   "metadata": {},
   "outputs": [],
   "source": [
    "inputFile = 'input.txt'"
   ]
  },
  {
   "cell_type": "code",
   "execution_count": 8,
   "id": "51294a16",
   "metadata": {},
   "outputs": [],
   "source": [
    "with open(inputFile) as f:\n",
    "    lines = f.readlines()"
   ]
  },
  {
   "cell_type": "code",
   "execution_count": 9,
   "id": "48c63b20",
   "metadata": {},
   "outputs": [
    {
     "name": "stdout",
     "output_type": "stream",
     "text": [
      "The elf is carrying a total of 71300 calories.\n"
     ]
    }
   ],
   "source": [
    "maxCalories = []\n",
    "elfMaxCalories = 0\n",
    "for listItem in lines:\n",
    "    if listItem == '\\n':\n",
    "        maxCalories.append(elfMaxCalories)\n",
    "        elfMaxCalories = 0\n",
    "    else:\n",
    "        elfMaxCalories += int(listItem)\n",
    "        \n",
    "print('The elf is carrying a total of',max(maxCalories), 'calories.')\n"
   ]
  },
  {
   "cell_type": "markdown",
   "id": "92b44801",
   "metadata": {},
   "source": [
    "## Part 2 - Find the top 3 elves carrying the most calories. How many in total?"
   ]
  },
  {
   "cell_type": "code",
   "execution_count": 10,
   "id": "41703b6c",
   "metadata": {},
   "outputs": [
    {
     "name": "stdout",
     "output_type": "stream",
     "text": [
      "The top three elves are carrying 209691 calories.\n"
     ]
    }
   ],
   "source": [
    "maxCalories.sort(reverse=True)\n",
    "print('The top three elves are carrying',sum(maxCalories[:3]),'calories.')"
   ]
  }
 ],
 "metadata": {
  "kernelspec": {
   "display_name": "Python 3 (ipykernel)",
   "language": "python",
   "name": "python3"
  },
  "language_info": {
   "codemirror_mode": {
    "name": "ipython",
    "version": 3
   },
   "file_extension": ".py",
   "mimetype": "text/x-python",
   "name": "python",
   "nbconvert_exporter": "python",
   "pygments_lexer": "ipython3",
   "version": "3.10.6"
  }
 },
 "nbformat": 4,
 "nbformat_minor": 5
}
